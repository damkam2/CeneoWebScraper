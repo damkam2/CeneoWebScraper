{
 "cells": [
  {
   "cell_type": "markdown",
   "metadata": {},
   "source": [
    "Ceneo Scraper\n"
   ]
  },
  {
   "cell_type": "markdown",
   "metadata": {},
   "source": [
    "## lista kroków \"manualnych\"\n",
    "\n",
    "1. Wejdź na strone produktu / z opiniami o produkcie\n",
    "2. Dla każdej opinii na stronie\n",
    "    - Skopiuj opinie \n",
    "    - Wklej opinie do edytora tekstu \n",
    "3. Przejdź do kolejnej strony z opiniami\n",
    "4. Powtarzaj kroki 2-3 dopóki są strony z opiniami\n",
    "\n",
    "\n",
    "## lista kroków scrapera\n",
    "\n",
    "1. Wysyłanie żądania dostępu do zasobu - strona z opiniami o produkcie \n",
    "2. Wydobycie z kodu HTML fragmentów odpowiadających opiniom\n",
    "3. Dla każdej opinii na stronie\n",
    "    - Wydobycie z kodu opini jej składowych"
   ]
  },
  {
   "cell_type": "markdown",
   "metadata": {},
   "source": [
    "## Struktura opini w serwisie Ceneo.pl\n",
    "\n",
    "|składowa|nazwa|selektor|\n",
    "|--------|-----|--------|\n",
    "|identyfikator opinii|opinion_id|[\"data-entry-id\"]|\n",
    "|autor|author|span.user-post__author-name|\n",
    "|rekomendacja|recommendation|span.user-post__author-recomendation > em|\n",
    "|liczba gwiazdek|stars|span.user-post__score-count|\n",
    "|treść opinii|content|div.user-post__text|\n",
    "|lista zalet|pros|div.reviev-feature__title--positives ~ div.reviev-feature__item|\n",
    "|lista wad|cons|div.reviev-feature__title--negatives ~ div.reviev-feature__item|\n",
    "|data wystawienia opinii|post_date|span.user-post__published > time:nth-child(1)[\"datetime\"]|\n",
    "|data zakupu produktu|purchase_date|span.user-post__published > time:nth-child(2)[\"datetime\"]|\n",
    "|ile osób uznało opinię za przydatną|useful|button.vote-yes > span|\n",
    "|ile osób uznało opinię za nieprzydatną|useless|button.vote-no > span|"
   ]
  },
  {
   "cell_type": "markdown",
   "metadata": {},
   "source": [
    "63717975\n",
    "63718036\n",
    "124893467\n",
    "130049265\n",
    "108290691"
   ]
  },
  {
   "cell_type": "markdown",
   "metadata": {},
   "source": [
    "1. import bibliotek\n"
   ]
  },
  {
   "cell_type": "code",
   "execution_count": null,
   "metadata": {},
   "outputs": [],
   "source": [
    "import os\n",
    "import json\n",
    "import requests\n",
    "from bs4 import BeautifulSoup"
   ]
  },
  {
   "cell_type": "markdown",
   "metadata": {},
   "source": [
    "2. Wysyłanie żądania dostepu do zasobu (request)\n",
    "\n"
   ]
  },
  {
   "cell_type": "code",
   "execution_count": 37,
   "metadata": {},
   "outputs": [],
   "source": [
    "product_code = \"63717975\"\n",
    "url = f\"https://www.ceneo.pl/{product_code}#tab=reviews\""
   ]
  },
  {
   "cell_type": "markdown",
   "metadata": {},
   "source": [
    "3. Wydobycie z kodu HTML fragmentów odpowiadających opiniom"
   ]
  },
  {
   "cell_type": "code",
   "execution_count": null,
   "metadata": {},
   "outputs": [],
   "source": [
    "while():\n",
    "    print(url)\n",
    "    response = requests.get(url)\n",
    "    page = BeautifulSoup(response.text, \"html.parser\")\n",
    "    opinions = page.select(\"div.js_product-review\")\n",
    "\n"
   ]
  },
  {
   "cell_type": "markdown",
   "metadata": {},
   "source": [
    "4. Wydobycie z kodu opini jej składowych dla każdej opinii na stronie"
   ]
  },
  {
   "cell_type": "code",
   "execution_count": null,
   "metadata": {},
   "outputs": [],
   "source": [
    "def get_data(ancestor, selector, attribute=None, return_list=False):\n",
    "    if return_list:\n",
    "        return [tag.text.strip() for tag in ancestor.select(selector)]\n",
    "    if attribute:\n",
    "        if selector:\n",
    "            try:\n",
    "                return ancestor.select_one(selector)[attribute].strip()\n",
    "            except TypeError\n",
    "                return None\n",
    "        return ancestor[attribute].strip()\n",
    "    try:\n",
    "        return ancestor.select_one(selector).text.strip()\n",
    "    except AttributeError\n",
    "        return None\n",
    "    "
   ]
  },
  {
   "cell_type": "code",
   "execution_count": 10,
   "metadata": {},
   "outputs": [],
   "source": [
    "while(url):\n",
    "    print(url)\n",
    "    response = requests.get(url)\n",
    "    page = BeautifulSoup(response.text, \"html.parser\")\n",
    "    opinions = page.select(\"div.js_product-review\")\n",
    "    all_opinions =\n",
    "    for opinion in opinions:\n",
    "    single_opinion = {\n",
    "        key: get_data(opinion, value)\n",
    "            for key, value in selectors.items()\n",
    "    }\n",
    "         \n",
    "    all_opinions.append(single_opinions)\n",
    "try:\n",
    "    url = \"https://ceneo.pl\"+page.select_one(\"a.pagination__next\")[\"href\"]\n",
    "except: TypeError\n",
    "    url = None"
   ]
  },
  {
   "cell_type": "code",
   "execution_count": null,
   "metadata": {},
   "outputs": [],
   "source": [
    "try:\n",
    "    url = \"https://ceneo.pl\"+page.select_one(\"a.pagination__next\")[\"href\"]\n",
    "except: TypeError\n"
   ]
  },
  {
   "cell_type": "markdown",
   "metadata": {},
   "source": [
    "5.Zapis opinii do pliku JSON"
   ]
  },
  {
   "cell_type": "code",
   "execution_count": null,
   "metadata": {},
   "outputs": [],
   "source": [
    "if not os.path.exists(\"opinions\")\n",
    "    os.mkdir(\"opinions\")\n",
    "jf = open(f\"{product_code}.json\", \"w\", encoding=\"UTF-8\")\n",
    "json.dump(all_opinions, jf, indent=4, ensure_ascii=False)\n",
    "jf.close()"
   ]
  },
  {
   "cell_type": "code",
   "execution_count": null,
   "metadata": {},
   "outputs": [],
   "source": [
    "selectors = {\n",
    "         'opinion_id': (None,\"data-entry-id\"),\n",
    "         'author':  (\"span.user-post__author-name\",),\n",
    "         'recommendation': (\"span.user-post__author-recomendation > em\",), \n",
    "         'stars': (\"span.user-post__score-count\",),\n",
    "         'content': (\"div.user-post__text\",), \n",
    "         'pros': (\"div.reviev-feature__title--positives ~ div.reviev-feature__item\", None, True), \n",
    "         'cons': (\"div.reviev-feature__title--negatives ~ div.reviev-feature__item\", None, True), \n",
    "         'post_date': (\"span.user-post__published > time:nth-child(1)\",\"datetime\"), \n",
    "         'purchase_date': (\"span.user-post__published > time:nth-child(2)\",\"datetime\"),\n",
    "         'useful': ( \"button.vote-yes > span\",), \n",
    "         'useless': (\"button.vote-no > span\",), \n",
    "}"
   ]
  }
 ],
 "metadata": {
  "kernelspec": {
   "display_name": ".venv",
   "language": "python",
   "name": "python3"
  },
  "language_info": {
   "codemirror_mode": {
    "name": "ipython",
    "version": 3
   },
   "file_extension": ".py",
   "mimetype": "text/x-python",
   "name": "python",
   "nbconvert_exporter": "python",
   "pygments_lexer": "ipython3",
   "version": "3.12.0"
  }
 },
 "nbformat": 4,
 "nbformat_minor": 2
}
